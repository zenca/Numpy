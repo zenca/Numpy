{
 "cells": [
  {
   "cell_type": "markdown",
   "id": "ffdd677d",
   "metadata": {},
   "source": [
    "# Numpy"
   ]
  },
  {
   "cell_type": "markdown",
   "id": "5af51cd9",
   "metadata": {},
   "source": [
    "### Creando Arrays"
   ]
  },
  {
   "cell_type": "code",
   "execution_count": 1,
   "id": "8035a5fa",
   "metadata": {},
   "outputs": [],
   "source": [
    "import numpy as np"
   ]
  },
  {
   "cell_type": "code",
   "execution_count": 9,
   "id": "fec06908",
   "metadata": {},
   "outputs": [
    {
     "name": "stdout",
     "output_type": "stream",
     "text": [
      "['1' '2' 'a']\n",
      "[1 2 3]\n",
      "[[1 3 4]]\n",
      "5\n",
      "1\n",
      "1\n",
      "2\n",
      "0\n"
     ]
    }
   ],
   "source": [
    "a=np.array([1,2,\"a\"])\n",
    "n=np.array((1,2,3))\n",
    "b=np.array([[1,3,4]])\n",
    "c=np.array(5)\n",
    "print(a)\n",
    "print(n)\n",
    "print(b)\n",
    "print(c)\n",
    "print(a.ndim)\n",
    "print(np.ndim(a))\n",
    "print(np.ndim(b))\n",
    "print(np.ndim(c))"
   ]
  },
  {
   "cell_type": "code",
   "execution_count": 11,
   "id": "17d5b2ec",
   "metadata": {},
   "outputs": [
    {
     "name": "stdout",
     "output_type": "stream",
     "text": [
      "[[1 2 3]\n",
      " [4 5 6]]\n",
      "[[1 2 3]\n",
      " [4 5 6]]\n",
      "2\n"
     ]
    }
   ],
   "source": [
    "c=np.array([(1,2,3),(4,5,6)])\n",
    "j=np.array([[1,2,3],[4,5,6]])\n",
    "print(c)\n",
    "print(j)\n",
    "print(np.ndim(j))"
   ]
  },
  {
   "cell_type": "code",
   "execution_count": 3,
   "id": "d52675ab",
   "metadata": {},
   "outputs": [
    {
     "name": "stdout",
     "output_type": "stream",
     "text": [
      "[1 2 3]\n"
     ]
    }
   ],
   "source": [
    "d=np.array((1,2,3))\n",
    "print(d)"
   ]
  },
  {
   "cell_type": "code",
   "execution_count": 5,
   "id": "6e2453d8",
   "metadata": {},
   "outputs": [
    {
     "name": "stdout",
     "output_type": "stream",
     "text": [
      "[[[1 2 3]]]\n"
     ]
    }
   ],
   "source": [
    "d=np.array([1,2,3],ndmin=3)\n",
    "print(d)"
   ]
  },
  {
   "cell_type": "code",
   "execution_count": 18,
   "id": "20a09d0c",
   "metadata": {},
   "outputs": [
    {
     "name": "stdout",
     "output_type": "stream",
     "text": [
      "[2]\n"
     ]
    }
   ],
   "source": [
    "e=np.arange(2,9,100)\n",
    "print(e)"
   ]
  },
  {
   "cell_type": "code",
   "execution_count": 10,
   "id": "240c2cf9",
   "metadata": {},
   "outputs": [
    {
     "name": "stdout",
     "output_type": "stream",
     "text": [
      "[0 1 2 3 4 5 6 7 8]\n"
     ]
    }
   ],
   "source": [
    "f=np.arange(9)\n",
    "print(f)"
   ]
  },
  {
   "cell_type": "code",
   "execution_count": 22,
   "id": "a449acfb",
   "metadata": {},
   "outputs": [
    {
     "name": "stdout",
     "output_type": "stream",
     "text": [
      "[1.         2.33333333 3.66666667 5.        ]\n"
     ]
    }
   ],
   "source": [
    "g=np.linspace(1,5,4)\n",
    "print(g)"
   ]
  },
  {
   "cell_type": "code",
   "execution_count": 14,
   "id": "58a811c0",
   "metadata": {},
   "outputs": [
    {
     "name": "stdout",
     "output_type": "stream",
     "text": [
      "[[0.79562769 0.943081  ]\n",
      " [0.40094535 0.13831423]]\n"
     ]
    }
   ],
   "source": [
    "h=np.random.random((2,2))\n",
    "print(h)"
   ]
  },
  {
   "cell_type": "code",
   "execution_count": 21,
   "id": "15d88c07",
   "metadata": {},
   "outputs": [
    {
     "name": "stdout",
     "output_type": "stream",
     "text": [
      "[0.79891278 0.44781525]\n"
     ]
    }
   ],
   "source": [
    "h=np.random.random(2)\n",
    "print(h)"
   ]
  },
  {
   "cell_type": "code",
   "execution_count": 20,
   "id": "5f5f7010",
   "metadata": {},
   "outputs": [
    {
     "name": "stdout",
     "output_type": "stream",
     "text": [
      "2\n"
     ]
    }
   ],
   "source": [
    "i=np.random.randint(5)\n",
    "print(i)"
   ]
  },
  {
   "cell_type": "code",
   "execution_count": 26,
   "id": "204c3c38",
   "metadata": {},
   "outputs": [
    {
     "name": "stdout",
     "output_type": "stream",
     "text": [
      "[[1 2 4]\n",
      " [4 3 1]]\n"
     ]
    }
   ],
   "source": [
    "i=np.random.randint(5,size=(2,3))\n",
    "print(i)"
   ]
  },
  {
   "cell_type": "code",
   "execution_count": 30,
   "id": "b5f75777",
   "metadata": {},
   "outputs": [
    {
     "name": "stdout",
     "output_type": "stream",
     "text": [
      "[6 6 7]\n"
     ]
    }
   ],
   "source": [
    "i=np.random.randint(5,(7,8,9))\n",
    "print(i)"
   ]
  },
  {
   "cell_type": "code",
   "execution_count": 32,
   "id": "ee4679e1",
   "metadata": {},
   "outputs": [
    {
     "name": "stdout",
     "output_type": "stream",
     "text": [
      "[[0.43170965 0.40580755 0.25336787 0.23236872]\n",
      " [0.17846549 0.07808056 0.31675582 0.7198344 ]]\n"
     ]
    }
   ],
   "source": [
    "k=np.random.rand(2,4)\n",
    "print(k)"
   ]
  },
  {
   "cell_type": "code",
   "execution_count": 39,
   "id": "4df68830",
   "metadata": {},
   "outputs": [
    {
     "name": "stdout",
     "output_type": "stream",
     "text": [
      "1\n"
     ]
    }
   ],
   "source": [
    "l=np.random.choice(4)\n",
    "print(l)"
   ]
  },
  {
   "cell_type": "code",
   "execution_count": 43,
   "id": "b8cb9e64",
   "metadata": {},
   "outputs": [
    {
     "name": "stdout",
     "output_type": "stream",
     "text": [
      "[3 1 1 1 3 2 1]\n"
     ]
    }
   ],
   "source": [
    "l=np.random.choice(4,7)\n",
    "print(l)"
   ]
  },
  {
   "cell_type": "code",
   "execution_count": 44,
   "id": "fb0b1dc0",
   "metadata": {},
   "outputs": [
    {
     "name": "stdout",
     "output_type": "stream",
     "text": [
      "[[0]\n",
      " [2]\n",
      " [3]\n",
      " [3]\n",
      " [3]\n",
      " [2]\n",
      " [0]]\n"
     ]
    }
   ],
   "source": [
    "l=np.random.choice(4,(7,1))\n",
    "print(l)"
   ]
  },
  {
   "cell_type": "markdown",
   "id": "51088447",
   "metadata": {},
   "source": [
    "### Inspecting"
   ]
  },
  {
   "cell_type": "code",
   "execution_count": 45,
   "id": "21703537",
   "metadata": {},
   "outputs": [
    {
     "name": "stdout",
     "output_type": "stream",
     "text": [
      "[[0.44829312 0.8623487  0.68822232]\n",
      " [0.50691844 0.60370618 0.94180955]]\n"
     ]
    }
   ],
   "source": [
    "h=np.random.random((2,3))\n",
    "print(h)"
   ]
  },
  {
   "cell_type": "code",
   "execution_count": 46,
   "id": "3fc0d59d",
   "metadata": {},
   "outputs": [
    {
     "name": "stdout",
     "output_type": "stream",
     "text": [
      "(2, 3)\n"
     ]
    }
   ],
   "source": [
    "print(np.shape(h))"
   ]
  },
  {
   "cell_type": "code",
   "execution_count": 47,
   "id": "5279974e",
   "metadata": {},
   "outputs": [
    {
     "name": "stdout",
     "output_type": "stream",
     "text": [
      "6\n"
     ]
    }
   ],
   "source": [
    "print(np.size(h))"
   ]
  },
  {
   "cell_type": "code",
   "execution_count": 48,
   "id": "965fa58d",
   "metadata": {},
   "outputs": [
    {
     "name": "stdout",
     "output_type": "stream",
     "text": [
      "2\n"
     ]
    }
   ],
   "source": [
    "print(len(h))"
   ]
  },
  {
   "cell_type": "code",
   "execution_count": 49,
   "id": "f7b78ecc",
   "metadata": {},
   "outputs": [
    {
     "name": "stdout",
     "output_type": "stream",
     "text": [
      "2\n"
     ]
    }
   ],
   "source": [
    "print(np.ndim(h))"
   ]
  },
  {
   "cell_type": "code",
   "execution_count": 58,
   "id": "a28737c8",
   "metadata": {},
   "outputs": [
    {
     "name": "stdout",
     "output_type": "stream",
     "text": [
      "[False  True False]\n"
     ]
    }
   ],
   "source": [
    "k=np.array([3,np.nan ,5])\n",
    "print(np.isnan(k))"
   ]
  },
  {
   "cell_type": "code",
   "execution_count": 24,
   "id": "e86d92a7",
   "metadata": {},
   "outputs": [
    {
     "name": "stdout",
     "output_type": "stream",
     "text": [
      "[1 2 3 5 6]\n"
     ]
    }
   ],
   "source": [
    "S=np.array([1,2,2,2,2,3,3,5,6,6])\n",
    "print(np.unique(S))"
   ]
  },
  {
   "cell_type": "code",
   "execution_count": 25,
   "id": "7abb930b",
   "metadata": {},
   "outputs": [
    {
     "name": "stdout",
     "output_type": "stream",
     "text": [
      "(array([1, 2, 3, 4], dtype=int64),)\n"
     ]
    }
   ],
   "source": [
    "print(np.where(S==2))"
   ]
  },
  {
   "cell_type": "code",
   "execution_count": 16,
   "id": "6999201d",
   "metadata": {},
   "outputs": [
    {
     "name": "stdout",
     "output_type": "stream",
     "text": [
      "[['a' 'b' 'm' 't' 'z']]\n"
     ]
    }
   ],
   "source": [
    "A=np.array([('z','b','a','t','m')])\n",
    "print(np.sort(A))"
   ]
  },
  {
   "cell_type": "markdown",
   "id": "31610ecb",
   "metadata": {},
   "source": [
    "### Statistics"
   ]
  },
  {
   "cell_type": "code",
   "execution_count": 26,
   "id": "c795cbb3",
   "metadata": {},
   "outputs": [
    {
     "name": "stdout",
     "output_type": "stream",
     "text": [
      "[[0.07919193 0.00619694 0.09709848]\n",
      " [0.37162308 0.42866891 0.55126027]]\n"
     ]
    }
   ],
   "source": [
    "h=np.random.random((2,3))\n",
    "print(h)"
   ]
  },
  {
   "cell_type": "code",
   "execution_count": 27,
   "id": "8a20d5df",
   "metadata": {},
   "outputs": [
    {
     "name": "stdout",
     "output_type": "stream",
     "text": [
      "1.5340396181454692\n"
     ]
    }
   ],
   "source": [
    "print(np.sum(h))"
   ]
  },
  {
   "cell_type": "code",
   "execution_count": 28,
   "id": "4276b3ca",
   "metadata": {},
   "outputs": [
    {
     "name": "stdout",
     "output_type": "stream",
     "text": [
      "0.006196939396575396\n"
     ]
    }
   ],
   "source": [
    "print(np.min(h))"
   ]
  },
  {
   "cell_type": "code",
   "execution_count": 29,
   "id": "7cd8461d",
   "metadata": {},
   "outputs": [
    {
     "name": "stdout",
     "output_type": "stream",
     "text": [
      "0.25567326969091153\n"
     ]
    }
   ],
   "source": [
    "print(np.mean(h))"
   ]
  },
  {
   "cell_type": "code",
   "execution_count": 30,
   "id": "ec81326b",
   "metadata": {},
   "outputs": [
    {
     "name": "stdout",
     "output_type": "stream",
     "text": [
      "[0.07919193 0.08538887 0.18248735 0.55411043 0.98277934 1.53403962]\n"
     ]
    }
   ],
   "source": [
    "print(np.cumsum(h))"
   ]
  },
  {
   "cell_type": "markdown",
   "id": "0b0342c6",
   "metadata": {},
   "source": [
    "### Modify"
   ]
  },
  {
   "cell_type": "code",
   "execution_count": 34,
   "id": "53b21029",
   "metadata": {},
   "outputs": [
    {
     "name": "stdout",
     "output_type": "stream",
     "text": [
      "[[4 2 1]\n",
      " [2 2 3]]\n"
     ]
    }
   ],
   "source": [
    "i=np.random.randint(5,size=(2,3))\n",
    "print(i)"
   ]
  },
  {
   "cell_type": "code",
   "execution_count": 38,
   "id": "9bc840d5",
   "metadata": {},
   "outputs": [
    {
     "name": "stdout",
     "output_type": "stream",
     "text": [
      "[[4 2]\n",
      " [1 2]\n",
      " [2 3]]\n"
     ]
    }
   ],
   "source": [
    "j=np.reshape(i,(3,2))\n",
    "print(j)"
   ]
  },
  {
   "cell_type": "code",
   "execution_count": 39,
   "id": "74a962a9",
   "metadata": {},
   "outputs": [
    {
     "name": "stdout",
     "output_type": "stream",
     "text": [
      "[[4 2]\n",
      " [2 2]\n",
      " [1 3]]\n"
     ]
    }
   ],
   "source": [
    "m=np.transpose(i)\n",
    "print(m)"
   ]
  },
  {
   "cell_type": "code",
   "execution_count": 9,
   "id": "f5ee2d23",
   "metadata": {},
   "outputs": [
    {
     "name": "stdout",
     "output_type": "stream",
     "text": [
      "6\n"
     ]
    }
   ],
   "source": [
    "i=np.random.randint(5,size=(2,3))\n",
    "print(i.size)"
   ]
  },
  {
   "cell_type": "code",
   "execution_count": 40,
   "id": "5ce8795c",
   "metadata": {},
   "outputs": [
    {
     "name": "stdout",
     "output_type": "stream",
     "text": [
      "[[1 2]\n",
      " [3 4]]\n",
      "(2, 2)\n",
      "4\n"
     ]
    }
   ],
   "source": [
    "n=np.array([(1,2),(3,4)])\n",
    "print(n)\n",
    "print(n.shape)\n",
    "print(n.size)"
   ]
  },
  {
   "cell_type": "code",
   "execution_count": 25,
   "id": "0db2b332",
   "metadata": {},
   "outputs": [
    {
     "name": "stdout",
     "output_type": "stream",
     "text": [
      "[[1 2 3 4]]\n"
     ]
    }
   ],
   "source": [
    "print(n.reshape(1,4))"
   ]
  },
  {
   "cell_type": "code",
   "execution_count": 30,
   "id": "8364e52f",
   "metadata": {},
   "outputs": [
    {
     "name": "stdout",
     "output_type": "stream",
     "text": [
      "[1 2 3 4]\n"
     ]
    }
   ],
   "source": [
    "o=np.flatten(n)\n",
    "print(o)"
   ]
  },
  {
   "cell_type": "markdown",
   "id": "6a0bbc21",
   "metadata": {},
   "source": [
    "### Agregate/Removing/Concatenate"
   ]
  },
  {
   "cell_type": "code",
   "execution_count": 8,
   "id": "802f85c4",
   "metadata": {},
   "outputs": [
    {
     "name": "stdout",
     "output_type": "stream",
     "text": [
      "[[1 2]\n",
      " [3 4]]\n",
      "[[1 2 5 2]\n",
      " [3 4 7 8]]\n"
     ]
    }
   ],
   "source": [
    "n=np.array([(1,2),(3,4)])\n",
    "print (n)\n",
    "m=np.append(n,[(5,2),(7,8)],axis=1)# te lo flatten si no indicas el axis\n",
    "print(m)"
   ]
  },
  {
   "cell_type": "code",
   "execution_count": 65,
   "id": "6769ecd5",
   "metadata": {},
   "outputs": [
    {
     "name": "stdout",
     "output_type": "stream",
     "text": [
      "[[1 2]\n",
      " [3 4]]\n",
      "[1 2 3 4 7 8]\n"
     ]
    }
   ],
   "source": [
    "n=np.array([(1,2),(3,4)])\n",
    "print (n)\n",
    "m=np.append(n,[(7,8)])\n",
    "print(m)"
   ]
  },
  {
   "cell_type": "code",
   "execution_count": 73,
   "id": "3e787e42",
   "metadata": {},
   "outputs": [
    {
     "name": "stdout",
     "output_type": "stream",
     "text": [
      "[[1 2]\n",
      " [3 4]]\n",
      "[[1 2]\n",
      " [3 4]\n",
      " [5 4]\n",
      " [9 7]]\n"
     ]
    }
   ],
   "source": [
    "n=np.array([(1,2),(3,4)])\n",
    "print (n)\n",
    "m=np.append(n,[(5,4),(9,7)],axis=0)# te append arrays con arrays tiene que tener la misma dimensión\n",
    "print(m)"
   ]
  },
  {
   "cell_type": "code",
   "execution_count": 76,
   "id": "0da2d5fa",
   "metadata": {},
   "outputs": [
    {
     "name": "stdout",
     "output_type": "stream",
     "text": [
      "[[1 2]\n",
      " [3 4]]\n",
      "[1 2 3 8 4]\n"
     ]
    }
   ],
   "source": [
    "n=np.array([(1,2),(3,4)])\n",
    "print (n)\n",
    "p=np.insert(n,3,8)#axis=0 lo flatten\n",
    "print(p)"
   ]
  },
  {
   "cell_type": "code",
   "execution_count": 51,
   "id": "ed82bb24",
   "metadata": {},
   "outputs": [
    {
     "name": "stdout",
     "output_type": "stream",
     "text": [
      "[[1 2]\n",
      " [3 4]]\n",
      "[[1 2]\n",
      " [8 8]\n",
      " [3 4]]\n"
     ]
    }
   ],
   "source": [
    "n=np.array([(1,2),(3,4)])\n",
    "print (n)\n",
    "p=np.insert(n,1,8,axis=0)\n",
    "print(p)"
   ]
  },
  {
   "cell_type": "code",
   "execution_count": 85,
   "id": "8cf856aa",
   "metadata": {},
   "outputs": [
    {
     "name": "stdout",
     "output_type": "stream",
     "text": [
      "[[1 8 2]\n",
      " [3 8 4]]\n",
      "[[1 8 2]]\n"
     ]
    }
   ],
   "source": [
    "print(p)\n",
    "q=np.delete(p,1,axis=0)\n",
    "print(q)"
   ]
  },
  {
   "cell_type": "code",
   "execution_count": 53,
   "id": "f3f116ce",
   "metadata": {},
   "outputs": [
    {
     "name": "stdout",
     "output_type": "stream",
     "text": [
      "[[1 2]\n",
      " [8 8]\n",
      " [3 4]]\n",
      "[[1]\n",
      " [8]\n",
      " [3]]\n"
     ]
    }
   ],
   "source": [
    "print(p)\n",
    "q=np.delete(p,1,axis=1)\n",
    "print(q)"
   ]
  },
  {
   "cell_type": "code",
   "execution_count": 54,
   "id": "ab4bae55",
   "metadata": {},
   "outputs": [
    {
     "name": "stdout",
     "output_type": "stream",
     "text": [
      "[[1]\n",
      " [8]\n",
      " [3]]\n"
     ]
    }
   ],
   "source": [
    "print(q)"
   ]
  },
  {
   "cell_type": "code",
   "execution_count": 56,
   "id": "f7db6348",
   "metadata": {},
   "outputs": [
    {
     "name": "stdout",
     "output_type": "stream",
     "text": [
      "[[1 1]\n",
      " [8 8]\n",
      " [3 3]]\n"
     ]
    }
   ],
   "source": [
    "w=np.tile(q,2)\n",
    "print(w)"
   ]
  },
  {
   "cell_type": "code",
   "execution_count": 57,
   "id": "ca002571",
   "metadata": {},
   "outputs": [
    {
     "name": "stdout",
     "output_type": "stream",
     "text": [
      "[[1]\n",
      " [8]\n",
      " [3]]\n",
      "[[1 1 1]\n",
      " [8 8 8]\n",
      " [3 3 3]\n",
      " [1 1 1]\n",
      " [8 8 8]\n",
      " [3 3 3]]\n"
     ]
    }
   ],
   "source": [
    "print(q)\n",
    "z=np.tile(q,(2,3))\n",
    "print(z)"
   ]
  },
  {
   "cell_type": "code",
   "execution_count": 59,
   "id": "efb12cfc",
   "metadata": {},
   "outputs": [
    {
     "name": "stdout",
     "output_type": "stream",
     "text": [
      "[[1 2]\n",
      " [3 4]]\n",
      "[[5 6]\n",
      " [7 8]]\n",
      "[[1 2 5 6]\n",
      " [3 4 7 8]]\n"
     ]
    }
   ],
   "source": [
    "C=np.array([[1, 2], [3, 4]])\n",
    "D=np.array([[5, 6], [7, 8]])\n",
    "E=np.concatenate((C,D), axis=1)\n",
    "print(C)\n",
    "print(D)\n",
    "print(E)"
   ]
  },
  {
   "cell_type": "code",
   "execution_count": 7,
   "id": "d23d3311",
   "metadata": {},
   "outputs": [
    {
     "name": "stdout",
     "output_type": "stream",
     "text": [
      "[[1 2 5 6]\n",
      " [3 4 7 8]]\n"
     ]
    }
   ],
   "source": [
    "C=np.array([[1, 2], [3, 4]])\n",
    "D=np.array([[5, 6], [7, 8]])\n",
    "E=np.concatenate((C,D), axis=1)\n",
    "\n",
    "print(E)"
   ]
  },
  {
   "cell_type": "code",
   "execution_count": 18,
   "id": "cfb9b0aa",
   "metadata": {},
   "outputs": [
    {
     "name": "stdout",
     "output_type": "stream",
     "text": [
      "[[1 2 3]\n",
      " [5 6 7]\n",
      " [9 6 4]]\n"
     ]
    }
   ],
   "source": [
    "C=np.array([1, 2,3])\n",
    "D=np.array([5, 6,7])\n",
    "E=np.array([9,6,4])\n",
    "H=np.stack((C,D,E),axis=0)\n",
    "print(H)"
   ]
  },
  {
   "cell_type": "code",
   "execution_count": 19,
   "id": "c13cbaa9",
   "metadata": {},
   "outputs": [
    {
     "name": "stdout",
     "output_type": "stream",
     "text": [
      "[[1 5 9]\n",
      " [2 6 6]\n",
      " [3 7 4]]\n"
     ]
    }
   ],
   "source": [
    "C=np.array([1, 2,3])\n",
    "D=np.array([5, 6,7])\n",
    "E=np.array([9,6,4])\n",
    "H=np.stack((C,D,E),axis=1)\n",
    "print(H)"
   ]
  },
  {
   "cell_type": "code",
   "execution_count": 21,
   "id": "70187aaa",
   "metadata": {},
   "outputs": [
    {
     "name": "stdout",
     "output_type": "stream",
     "text": [
      "[[1 2 3]\n",
      " [9 6 4]\n",
      " [5 6 7]]\n"
     ]
    }
   ],
   "source": [
    "C=np.array([1, 2,3])\n",
    "D=np.array([5, 6,7])\n",
    "E=np.array([9,6,4])\n",
    "H=np.stack((C,E,D),axis=0)\n",
    "print(H)"
   ]
  },
  {
   "cell_type": "code",
   "execution_count": 23,
   "id": "7fe8eae7",
   "metadata": {},
   "outputs": [
    {
     "name": "stdout",
     "output_type": "stream",
     "text": [
      "[[[1 2]\n",
      "  [3 4]]\n",
      "\n",
      " [[5 6]\n",
      "  [7 8]]]\n"
     ]
    }
   ],
   "source": [
    "C=np.array([[1, 2], [3, 4]])\n",
    "D=np.array([[5, 6], [7, 8]])\n",
    "H=np.stack((C,D),axis=0)\n",
    "print(H)"
   ]
  },
  {
   "cell_type": "code",
   "execution_count": 24,
   "id": "c876e28d",
   "metadata": {},
   "outputs": [
    {
     "name": "stdout",
     "output_type": "stream",
     "text": [
      "[[[1 2]\n",
      "  [5 6]]\n",
      "\n",
      " [[3 4]\n",
      "  [7 8]]]\n"
     ]
    }
   ],
   "source": [
    "C=np.array([[1, 2], [3, 4]])\n",
    "D=np.array([[5, 6], [7, 8]])\n",
    "H=np.stack((C,D),axis=1)\n",
    "print(H)"
   ]
  },
  {
   "cell_type": "markdown",
   "id": "67e6e4c5",
   "metadata": {},
   "source": [
    "### Selecting/Slicing"
   ]
  },
  {
   "cell_type": "code",
   "execution_count": 61,
   "id": "445b46aa",
   "metadata": {},
   "outputs": [
    {
     "name": "stdout",
     "output_type": "stream",
     "text": [
      "[[1 2 3]\n",
      " [4 5 6]\n",
      " [7 8 9]]\n"
     ]
    }
   ],
   "source": [
    "A=np.array([(1,2,3),(4,5,6),(7,8,9)])\n",
    "print(A)"
   ]
  },
  {
   "cell_type": "code",
   "execution_count": 62,
   "id": "eeb5928d",
   "metadata": {},
   "outputs": [
    {
     "name": "stdout",
     "output_type": "stream",
     "text": [
      "[7 8 9]\n"
     ]
    }
   ],
   "source": [
    "print(A[2])"
   ]
  },
  {
   "cell_type": "code",
   "execution_count": 96,
   "id": "b2e9707b",
   "metadata": {},
   "outputs": [
    {
     "name": "stdout",
     "output_type": "stream",
     "text": [
      "[8 9 4]\n",
      "4\n"
     ]
    }
   ],
   "source": [
    "B=np.array([8,9,4])\n",
    "print(B)\n",
    "print(B[2])"
   ]
  },
  {
   "cell_type": "code",
   "execution_count": 64,
   "id": "2975f741",
   "metadata": {},
   "outputs": [
    {
     "name": "stdout",
     "output_type": "stream",
     "text": [
      "[[1 2 3]\n",
      " [4 5 6]\n",
      " [7 8 9]]\n",
      "5\n"
     ]
    }
   ],
   "source": [
    "A=np.array([(1,2,3),(4,5,6),(7,8,9)])\n",
    "print(A)\n",
    "print(A[1,1])"
   ]
  },
  {
   "cell_type": "code",
   "execution_count": 101,
   "id": "a16d5d03",
   "metadata": {},
   "outputs": [
    {
     "name": "stdout",
     "output_type": "stream",
     "text": [
      "[[1 2 3]\n",
      " [4 5 6]]\n"
     ]
    }
   ],
   "source": [
    "print(A[:2])"
   ]
  },
  {
   "cell_type": "code",
   "execution_count": 66,
   "id": "98e9c845",
   "metadata": {},
   "outputs": [
    {
     "name": "stdout",
     "output_type": "stream",
     "text": [
      "[7 8]\n"
     ]
    }
   ],
   "source": [
    "print(A[2,:2])"
   ]
  },
  {
   "cell_type": "code",
   "execution_count": 68,
   "id": "8c1dd41d",
   "metadata": {},
   "outputs": [
    {
     "name": "stdout",
     "output_type": "stream",
     "text": [
      "[[4 5 6]]\n"
     ]
    }
   ],
   "source": [
    "print(A[1:-1])"
   ]
  },
  {
   "cell_type": "code",
   "execution_count": 4,
   "id": "ef738e5e",
   "metadata": {},
   "outputs": [
    {
     "name": "stdout",
     "output_type": "stream",
     "text": [
      "[[2]\n",
      " [8]]\n"
     ]
    }
   ],
   "source": [
    "print(A[:3:2,1:2])"
   ]
  },
  {
   "cell_type": "markdown",
   "id": "19882f14",
   "metadata": {},
   "source": [
    "### Split"
   ]
  },
  {
   "cell_type": "code",
   "execution_count": 2,
   "id": "f6825c78",
   "metadata": {},
   "outputs": [
    {
     "name": "stdout",
     "output_type": "stream",
     "text": [
      "[1 2 3 4 5 6]\n",
      "[array([1, 2, 3]), array([4, 5, 6])]\n"
     ]
    }
   ],
   "source": [
    "L=np.array([1,2,3,4,5,6])\n",
    "print(L)\n",
    "B=np.split(L,2)\n",
    "print(B)"
   ]
  },
  {
   "cell_type": "code",
   "execution_count": 31,
   "id": "b6f41afb",
   "metadata": {},
   "outputs": [
    {
     "name": "stdout",
     "output_type": "stream",
     "text": [
      "[1 2 3 4 5 6]\n",
      "[array([1, 2]), array([3, 4]), array([5]), array([6])]\n"
     ]
    }
   ],
   "source": [
    "L=np.array([1,2,3,4,5,6])\n",
    "print(L)\n",
    "B=np.array_split(L,4)\n",
    "#print(B)"
   ]
  },
  {
   "cell_type": "markdown",
   "id": "daa6c0a5",
   "metadata": {},
   "source": [
    "### Operations/Ufuncs/Broadcasting"
   ]
  },
  {
   "cell_type": "code",
   "execution_count": 3,
   "id": "69b542af",
   "metadata": {},
   "outputs": [
    {
     "name": "stdout",
     "output_type": "stream",
     "text": [
      "[[6 8]\n",
      " [4 5]]\n"
     ]
    }
   ],
   "source": [
    "G=np.array([(1,2),(3,4)])\n",
    "K=np.array([(5,6),(1,1)])\n",
    "F=np.array(G+K)\n",
    "print(F)"
   ]
  },
  {
   "cell_type": "code",
   "execution_count": 4,
   "id": "fe6d2623",
   "metadata": {},
   "outputs": [
    {
     "name": "stdout",
     "output_type": "stream",
     "text": [
      "[[4 5]\n",
      " [6 7]]\n"
     ]
    }
   ],
   "source": [
    "print(np.add(G,3))"
   ]
  },
  {
   "cell_type": "code",
   "execution_count": 7,
   "id": "f5171b2b",
   "metadata": {},
   "outputs": [
    {
     "name": "stdout",
     "output_type": "stream",
     "text": [
      "[[ 7  8]\n",
      " [19 22]]\n"
     ]
    }
   ],
   "source": [
    "#print(np.dot(G,K))"
   ]
  },
  {
   "cell_type": "code",
   "execution_count": 9,
   "id": "e91a6f4d",
   "metadata": {},
   "outputs": [
    {
     "name": "stdout",
     "output_type": "stream",
     "text": [
      "[[ 5  2  8]\n",
      " [13  6 22]]\n"
     ]
    }
   ],
   "source": [
    "V=np.array([(3,2,6),(1,0,1)])\n",
    "#print(np.dot(G,V))"
   ]
  },
  {
   "cell_type": "markdown",
   "id": "6e2a7384",
   "metadata": {},
   "source": [
    "### Filters"
   ]
  },
  {
   "cell_type": "code",
   "execution_count": 10,
   "id": "480f63bc",
   "metadata": {},
   "outputs": [
    {
     "name": "stdout",
     "output_type": "stream",
     "text": [
      "[5 6 7 8]\n"
     ]
    }
   ],
   "source": [
    "M=np.array([5,2,4,6,7,8])\n",
    "q=M>4\n",
    "Z=M[q]\n",
    "#print(Z)"
   ]
  },
  {
   "cell_type": "code",
   "execution_count": 11,
   "id": "564127a8",
   "metadata": {},
   "outputs": [
    {
     "name": "stdout",
     "output_type": "stream",
     "text": [
      "[ 5  2 28  6  7  8]\n"
     ]
    }
   ],
   "source": [
    "M[2]=28\n",
    "#print(M)"
   ]
  },
  {
   "cell_type": "code",
   "execution_count": null,
   "id": "5cb84db9",
   "metadata": {},
   "outputs": [],
   "source": []
  }
 ],
 "metadata": {
  "kernelspec": {
   "display_name": "Python 3",
   "language": "python",
   "name": "python3"
  },
  "language_info": {
   "codemirror_mode": {
    "name": "ipython",
    "version": 3
   },
   "file_extension": ".py",
   "mimetype": "text/x-python",
   "name": "python",
   "nbconvert_exporter": "python",
   "pygments_lexer": "ipython3",
   "version": "3.7.10"
  }
 },
 "nbformat": 4,
 "nbformat_minor": 5
}
